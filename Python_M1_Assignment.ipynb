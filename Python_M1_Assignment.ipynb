{
 "cells": [
  {
   "cell_type": "markdown",
   "id": "29d5a796",
   "metadata": {},
   "source": [
    "### Question 1: last_digit\n",
    "1. Write the function last_digit that takes in a positive integer n and returns the last digit of n.\n",
    "2. The last digit can be found by taking the remainder when dividing the number by 10."
   ]
  },
  {
   "cell_type": "code",
   "execution_count": 1,
   "id": "7bc098ce",
   "metadata": {},
   "outputs": [],
   "source": [
    "def last_digit(n):\n",
    "    res = n % 10\n",
    "    return res"
   ]
  },
  {
   "cell_type": "code",
   "execution_count": 2,
   "id": "0793f44a",
   "metadata": {},
   "outputs": [],
   "source": [
    "def test_last_digit():\n",
    "    print(\"Testing last_digit()...\", end=\"\")\n",
    "    assert(last_digit(2) == 2)\n",
    "    assert(last_digit(35) == 5)\n",
    "    assert(last_digit(123) == 3)\n",
    "    assert(last_digit(99999999) == 9)\n",
    "    assert(last_digit(0) == 0)\n",
    "    print(\"... done!\")"
   ]
  },
  {
   "cell_type": "code",
   "execution_count": 3,
   "id": "572027e3",
   "metadata": {},
   "outputs": [
    {
     "name": "stdout",
     "output_type": "stream",
     "text": [
      "Testing last_digit()...... done!\n"
     ]
    }
   ],
   "source": [
    "test_last_digit()"
   ]
  },
  {
   "cell_type": "markdown",
   "id": "2952d513",
   "metadata": {},
   "source": [
    "### Question 2: full_name\n",
    "#### Write the function full_name that takes in two strings representing a first name and last name and returns the sentence My name is {first name} {last name}."
   ]
  },
  {
   "cell_type": "code",
   "execution_count": 4,
   "id": "05522cbd",
   "metadata": {},
   "outputs": [],
   "source": [
    "def full_name(first_name, last_name):\n",
    "    sentence=\"My name is \"+first_name+\" \"+last_name+\".\"\n",
    "    return sentence"
   ]
  },
  {
   "cell_type": "code",
   "execution_count": 5,
   "id": "5d35c3b9",
   "metadata": {},
   "outputs": [
    {
     "data": {
      "text/plain": [
       "'My name is John Stone.'"
      ]
     },
     "execution_count": 5,
     "metadata": {},
     "output_type": "execute_result"
    }
   ],
   "source": [
    "full_name(\"John\", \"Stone\")"
   ]
  },
  {
   "cell_type": "code",
   "execution_count": 6,
   "id": "91f33361",
   "metadata": {},
   "outputs": [],
   "source": [
    "def test_full_name():\n",
    "    print(\"Testing full_name()...\", end=\"\")\n",
    "    assert(full_name(\"Hello\", \"World\") == \"My name is Hello World.\")\n",
    "    assert(full_name(\"Meryl\", \"Streep\") == \"My name is Meryl Streep.\")\n",
    "    assert(full_name(\"Chris\", \"Evans\") == \"My name is Chris Evans.\")\n",
    "    assert(full_name(\"John\", \"Smith\") == \"My name is John Smith.\")\n",
    "    print(\"... done!\")"
   ]
  },
  {
   "cell_type": "code",
   "execution_count": 7,
   "id": "f5af621b",
   "metadata": {},
   "outputs": [
    {
     "name": "stdout",
     "output_type": "stream",
     "text": [
      "Testing full_name()...... done!\n"
     ]
    }
   ],
   "source": [
    "test_full_name()"
   ]
  },
  {
   "cell_type": "markdown",
   "id": "87b43695",
   "metadata": {},
   "source": [
    "### Question 3: triangle_area\n",
    "#### Write the function triangle_area that takes in nonnegative integers b and h (representing the base and height of a triangle) and returns the area of the triangle."
   ]
  },
  {
   "cell_type": "code",
   "execution_count": 8,
   "id": "8e0b169c",
   "metadata": {},
   "outputs": [],
   "source": [
    "def triangle_area(b, h):\n",
    "    area = (b * h)/2\n",
    "    return area"
   ]
  },
  {
   "cell_type": "code",
   "execution_count": 9,
   "id": "4ab22f46",
   "metadata": {},
   "outputs": [],
   "source": [
    "def test_triangle_area():\n",
    "    print(\"Testing triangle_area()...\", end=\"\")\n",
    "    assert(triangle_area(3, 3) == 4.5)\n",
    "    assert(triangle_area(1, 5) == 2.5)\n",
    "    assert(triangle_area(6, 2) == 6.0)\n",
    "    assert(triangle_area(15, 4) == 30.0)\n",
    "    assert(triangle_area(0, 3) == 0.0)\n",
    "    print(\"... done!\")\n",
    "  "
   ]
  },
  {
   "cell_type": "code",
   "execution_count": 10,
   "id": "a0728af6",
   "metadata": {},
   "outputs": [
    {
     "name": "stdout",
     "output_type": "stream",
     "text": [
      "Testing triangle_area()...... done!\n"
     ]
    }
   ],
   "source": [
    "test_triangle_area()"
   ]
  },
  {
   "cell_type": "markdown",
   "id": "e6417f11",
   "metadata": {},
   "source": [
    "### Question 4: trapezoid_area\n",
    "#### For this function, you will need to know how to calculate the area of a trapezoid. \n",
    "#### Given the lengths of the two bases and the height, denoted as b1, b2, and h respectively, the area can be calculated as: A = ((b1 + b2)/2)h"
   ]
  },
  {
   "cell_type": "code",
   "execution_count": 11,
   "id": "d786a797",
   "metadata": {},
   "outputs": [],
   "source": [
    "def trapezoid_area(b1, b2, h):\n",
    "    A = ((b1 + b2)/2)*h\n",
    "    return A"
   ]
  },
  {
   "cell_type": "code",
   "execution_count": 12,
   "id": "e78dc5fe",
   "metadata": {},
   "outputs": [],
   "source": [
    "def test_trapezoid_area():\n",
    "    print(\"Testing trapezoid_area()...\", end=\"\")\n",
    "    assert(trapezoid_area(5, 5, 3) == 15.0)\n",
    "    assert(trapezoid_area(13, 7, 5) == 50.0)\n",
    "    assert(trapezoid_area(3, 6, 5) == 22.5)\n",
    "    assert(trapezoid_area(11, 7, 9) == 81.0)\n",
    "    assert(trapezoid_area(4, 12, 0) == 0.0)\n",
    "    print(\"... done!\")"
   ]
  },
  {
   "cell_type": "code",
   "execution_count": 13,
   "id": "274fcbbb",
   "metadata": {},
   "outputs": [
    {
     "name": "stdout",
     "output_type": "stream",
     "text": [
      "Testing trapezoid_area()...... done!\n"
     ]
    }
   ],
   "source": [
    "test_trapezoid_area()"
   ]
  },
  {
   "cell_type": "markdown",
   "id": "0430682f",
   "metadata": {},
   "source": [
    "### Question 5: herons_formula\n",
    "#### For this problem, you will need to use Heron’s Formula. This formula calculates the area of a triangle given the three side lengths using the formula as follows: A=√s(s−a)(s−b)(s−c)\n",
    "#### where s = (a + b + c)/2"
   ]
  },
  {
   "cell_type": "code",
   "execution_count": 14,
   "id": "5bfa9a28",
   "metadata": {},
   "outputs": [],
   "source": [
    "def herons_formula(a, b, c):\n",
    "    s = (a + b + c)/2\n",
    "    from math import sqrt\n",
    "    t = s - a\n",
    "    u = s - b\n",
    "    v = s - c\n",
    "    A = sqrt(s*t*u*v)\n",
    "    \n",
    "    return A"
   ]
  },
  {
   "cell_type": "code",
   "execution_count": 15,
   "id": "b529760d",
   "metadata": {},
   "outputs": [],
   "source": [
    "def test_herons_formula():\n",
    "    print(\"Testing herons_formula()...\", end=\"\")\n",
    "    assert(herons_formula(9, 20, 30) == 0)\n",
    "    assert(herons_formula(13, 7, 5) == 50.0)\n",
    "    assert(herons_formula(3, 6, 5) == 22.5)\n",
    "    assert(herons_formula(11, 7, 9) == 81.0)\n",
    "    assert(herons_formula(4, 12, 0) == 0.0)\n",
    "    print(\"... done!\")"
   ]
  },
  {
   "cell_type": "code",
   "execution_count": 16,
   "id": "914ebb14",
   "metadata": {},
   "outputs": [],
   "source": [
    "def herons_form(a, b, c):\n",
    "    s = (a+b+c)/2\n",
    "    from math import sqrt\n",
    "    t = s - a\n",
    "    u = s - b\n",
    "    v = s - c\n",
    "    A = sqrt(s*t*u*v)\n",
    "    if (((a+b>c) and (a+c>b)) and b+c>a):\n",
    "        return A\n",
    "    else:\n",
    "        return print(\"invalid arguments \\na, b, c must satisfy (a+b>c) and (a+c>b) and (b+c>a)\")\n",
    "    pass"
   ]
  },
  {
   "cell_type": "code",
   "execution_count": 17,
   "id": "9b9e6f6e",
   "metadata": {},
   "outputs": [
    {
     "data": {
      "text/plain": [
       "5.332682251925386"
      ]
     },
     "execution_count": 17,
     "metadata": {},
     "output_type": "execute_result"
    }
   ],
   "source": [
    "herons_form(4, 6, 3)"
   ]
  },
  {
   "cell_type": "code",
   "execution_count": 18,
   "id": "94a88064",
   "metadata": {},
   "outputs": [
    {
     "data": {
      "text/plain": [
       "5.332682251925386"
      ]
     },
     "execution_count": 18,
     "metadata": {},
     "output_type": "execute_result"
    }
   ],
   "source": [
    "herons_formula(4, 6, 3)"
   ]
  },
  {
   "cell_type": "markdown",
   "id": "38672552",
   "metadata": {},
   "source": [
    "### Question 6: Fix the code\n",
    "#### You are given a function average with some bugs in it. Run the code and use the error messages to help you fix all the bugs so that it passes the test cases."
   ]
  },
  {
   "cell_type": "code",
   "execution_count": 19,
   "id": "e94b3a3f",
   "metadata": {},
   "outputs": [],
   "source": [
    "def average(x, y):\n",
    "    result = (x+y)/2\n",
    "    return result"
   ]
  },
  {
   "cell_type": "code",
   "execution_count": 20,
   "id": "5350871b",
   "metadata": {},
   "outputs": [
    {
     "name": "stdout",
     "output_type": "stream",
     "text": [
      "6.5\n"
     ]
    }
   ],
   "source": [
    "print(average(4, 9))"
   ]
  },
  {
   "cell_type": "code",
   "execution_count": 21,
   "id": "ad9d1d59",
   "metadata": {},
   "outputs": [],
   "source": [
    "def test_average():\n",
    "    print(\"Testing average()...\", end=\"\")\n",
    "    assert(average(4, 9) == 6.5)\n",
    "    assert(average(1, 3) == 2.0)\n",
    "    assert(average(0, 10) == 5.0)\n",
    "    assert(average(-3, 6) == 1.5)\n",
    "    print(\"...done!\")"
   ]
  },
  {
   "cell_type": "code",
   "execution_count": 22,
   "id": "2e09cf28",
   "metadata": {},
   "outputs": [
    {
     "name": "stdout",
     "output_type": "stream",
     "text": [
      "Testing average()......done!\n"
     ]
    }
   ],
   "source": [
    "test_average()"
   ]
  },
  {
   "cell_type": "markdown",
   "id": "70192940",
   "metadata": {},
   "source": [
    "### Question 7: sum_digits\n",
    "#### Write a function called sum_digits that takes in a two-digit number n and returns the sum of its digits."
   ]
  },
  {
   "cell_type": "code",
   "execution_count": 23,
   "id": "ff49c22b",
   "metadata": {},
   "outputs": [],
   "source": [
    "def sum_digits(n):\n",
    "    first_digit = n // 10\n",
    "    second_digit = n % 10\n",
    "    S = first_digit + second_digit\n",
    "    return S"
   ]
  },
  {
   "cell_type": "code",
   "execution_count": 24,
   "id": "339e3047",
   "metadata": {},
   "outputs": [
    {
     "data": {
      "text/plain": [
       "6"
      ]
     },
     "execution_count": 24,
     "metadata": {},
     "output_type": "execute_result"
    }
   ],
   "source": [
    "sum_digits(15)"
   ]
  },
  {
   "cell_type": "code",
   "execution_count": 25,
   "id": "0b2515a8",
   "metadata": {},
   "outputs": [],
   "source": [
    "def test_sum_digits():\n",
    "    print(\"Testing sum_digits()...\", end=\"\")\n",
    "    assert(sum_digits(13) == 4)\n",
    "    assert(sum_digits(67) == 13)\n",
    "    assert(sum_digits(44) == 8)\n",
    "    assert(sum_digits(50) == 5)\n",
    "    assert(sum_digits(93) == 12)\n",
    "    print(\"... done!\")"
   ]
  },
  {
   "cell_type": "code",
   "execution_count": 26,
   "id": "7184aace",
   "metadata": {},
   "outputs": [
    {
     "name": "stdout",
     "output_type": "stream",
     "text": [
      "Testing sum_digits()...... done!\n"
     ]
    }
   ],
   "source": [
    "test_sum_digits()"
   ]
  },
  {
   "cell_type": "markdown",
   "id": "330907ad",
   "metadata": {},
   "source": [
    "### Question 8: get_kth_digit\n",
    "#### Write the function get_kth_digit that takes in a possibly negative integer n and a nonnegative integer k and returns the kth digit of n. \n",
    "#### Count digits starting from the right and starting with zero."
   ]
  },
  {
   "cell_type": "code",
   "execution_count": 27,
   "id": "44866657",
   "metadata": {},
   "outputs": [],
   "source": [
    "def get_kth_digit(n, k):\n",
    "    res = abs(n) //10**k % 10\n",
    "    return res"
   ]
  },
  {
   "cell_type": "code",
   "execution_count": 28,
   "id": "7a938d91",
   "metadata": {},
   "outputs": [],
   "source": [
    "def test_get_kth_digit():\n",
    "    print(\"Testing get_kth_digit()...\", end=\"\")\n",
    "    assert(get_kth_digit(789, 0) == 9)\n",
    "    assert(get_kth_digit(789, 1) == 8)\n",
    "    assert(get_kth_digit(789, 2) == 7)\n",
    "    assert(get_kth_digit(789, 3) == 0)\n",
    "    assert(get_kth_digit(-789, 0) == 9)\n",
    "    print(\"... done!\")"
   ]
  },
  {
   "cell_type": "code",
   "execution_count": 29,
   "id": "51e5a6a8",
   "metadata": {},
   "outputs": [
    {
     "name": "stdout",
     "output_type": "stream",
     "text": [
      "Testing get_kth_digit()...... done!\n"
     ]
    }
   ],
   "source": [
    "test_get_kth_digit()"
   ]
  },
  {
   "cell_type": "code",
   "execution_count": null,
   "id": "29d0f112",
   "metadata": {},
   "outputs": [],
   "source": []
  }
 ],
 "metadata": {
  "kernelspec": {
   "display_name": "mlenv",
   "language": "python",
   "name": "mlenv"
  },
  "language_info": {
   "codemirror_mode": {
    "name": "ipython",
    "version": 3
   },
   "file_extension": ".py",
   "mimetype": "text/x-python",
   "name": "python",
   "nbconvert_exporter": "python",
   "pygments_lexer": "ipython3",
   "version": "3.8.12"
  }
 },
 "nbformat": 4,
 "nbformat_minor": 5
}
